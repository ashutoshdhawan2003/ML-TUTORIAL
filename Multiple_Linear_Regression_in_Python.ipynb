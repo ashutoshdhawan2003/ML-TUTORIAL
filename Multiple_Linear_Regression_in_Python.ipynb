{
  "metadata": {
    "kernelspec": {
      "language": "python",
      "display_name": "Python 3",
      "name": "python3"
    },
    "language_info": {
      "pygments_lexer": "ipython3",
      "nbconvert_exporter": "python",
      "version": "3.6.4",
      "file_extension": ".py",
      "codemirror_mode": {
        "name": "ipython",
        "version": 3
      },
      "name": "python",
      "mimetype": "text/x-python"
    },
    "colab": {
      "name": "Multiple Linear Regression in Python",
      "provenance": []
    }
  },
  "nbformat_minor": 0,
  "nbformat": 4,
  "cells": [
    {
      "source": [
        "\n",
        "# IMPORTANT: RUN THIS CELL IN ORDER TO IMPORT YOUR KAGGLE DATA SOURCES\n",
        "# TO THE CORRECT LOCATION (/kaggle/input) IN YOUR NOTEBOOK,\n",
        "# THEN FEEL FREE TO DELETE THIS CELL.\n",
        "# NOTE: THIS NOTEBOOK ENVIRONMENT DIFFERS FROM KAGGLE'S PYTHON\n",
        "# ENVIRONMENT SO THERE MAY BE MISSING LIBRARIES USED BY YOUR\n",
        "# NOTEBOOK.\n",
        "\n",
        "import os\n",
        "import sys\n",
        "from tempfile import NamedTemporaryFile\n",
        "from urllib.request import urlopen\n",
        "from urllib.parse import unquote, urlparse\n",
        "from urllib.error import HTTPError\n",
        "from zipfile import ZipFile\n",
        "import tarfile\n",
        "import shutil\n",
        "\n",
        "CHUNK_SIZE = 40960\n",
        "DATA_SOURCE_MAPPING = 'cardataset:https%3A%2F%2Fstorage.googleapis.com%2Fkaggle-data-sets%2F2702246%2F4651306%2Fbundle%2Farchive.zip%3FX-Goog-Algorithm%3DGOOG4-RSA-SHA256%26X-Goog-Credential%3Dgcp-kaggle-com%2540kaggle-161607.iam.gserviceaccount.com%252F20240506%252Fauto%252Fstorage%252Fgoog4_request%26X-Goog-Date%3D20240506T101312Z%26X-Goog-Expires%3D259200%26X-Goog-SignedHeaders%3Dhost%26X-Goog-Signature%3D5a711212a89a26374974ed62a3b837755b05572ab9d3322ed69eed950e8bf3a088f4b14d18c6b151d5abc10aad4c8aaf659618c52c4a6e6e73b8ea78c2c42a1220ed34da3825d37c026317c7e8b05114d2c79e9ebee0d29dde93f2b595ba6cacabdc492ba83812a4822f84ed930a10e14c594bdfd00e3b5419daf4f5261c38dd4036cc5560e4e5231b1b9b41c54d249f4840c57ab150daafc64c9442d9827e333a02438b915585ae4f1c5a45f5f824c44cd1e8dd092180ced35ab7f98de896c553dda7dc4eca2aef12d1783fda2f48032fa30b92f44bbecbfb563cfc72f5033aa23860adb550cf13603252616e4194fc99f5a1d2f09837166cda2befa9689e12'\n",
        "\n",
        "KAGGLE_INPUT_PATH='/kaggle/input'\n",
        "KAGGLE_WORKING_PATH='/kaggle/working'\n",
        "KAGGLE_SYMLINK='kaggle'\n",
        "\n",
        "!umount /kaggle/input/ 2> /dev/null\n",
        "shutil.rmtree('/kaggle/input', ignore_errors=True)\n",
        "os.makedirs(KAGGLE_INPUT_PATH, 0o777, exist_ok=True)\n",
        "os.makedirs(KAGGLE_WORKING_PATH, 0o777, exist_ok=True)\n",
        "\n",
        "try:\n",
        "  os.symlink(KAGGLE_INPUT_PATH, os.path.join(\"..\", 'input'), target_is_directory=True)\n",
        "except FileExistsError:\n",
        "  pass\n",
        "try:\n",
        "  os.symlink(KAGGLE_WORKING_PATH, os.path.join(\"..\", 'working'), target_is_directory=True)\n",
        "except FileExistsError:\n",
        "  pass\n",
        "\n",
        "for data_source_mapping in DATA_SOURCE_MAPPING.split(','):\n",
        "    directory, download_url_encoded = data_source_mapping.split(':')\n",
        "    download_url = unquote(download_url_encoded)\n",
        "    filename = urlparse(download_url).path\n",
        "    destination_path = os.path.join(KAGGLE_INPUT_PATH, directory)\n",
        "    try:\n",
        "        with urlopen(download_url) as fileres, NamedTemporaryFile() as tfile:\n",
        "            total_length = fileres.headers['content-length']\n",
        "            print(f'Downloading {directory}, {total_length} bytes compressed')\n",
        "            dl = 0\n",
        "            data = fileres.read(CHUNK_SIZE)\n",
        "            while len(data) > 0:\n",
        "                dl += len(data)\n",
        "                tfile.write(data)\n",
        "                done = int(50 * dl / int(total_length))\n",
        "                sys.stdout.write(f\"\\r[{'=' * done}{' ' * (50-done)}] {dl} bytes downloaded\")\n",
        "                sys.stdout.flush()\n",
        "                data = fileres.read(CHUNK_SIZE)\n",
        "            if filename.endswith('.zip'):\n",
        "              with ZipFile(tfile) as zfile:\n",
        "                zfile.extractall(destination_path)\n",
        "            else:\n",
        "              with tarfile.open(tfile.name) as tarfile:\n",
        "                tarfile.extractall(destination_path)\n",
        "            print(f'\\nDownloaded and uncompressed: {directory}')\n",
        "    except HTTPError as e:\n",
        "        print(f'Failed to load (likely expired) {download_url} to path {destination_path}')\n",
        "        continue\n",
        "    except OSError as e:\n",
        "        print(f'Failed to load {download_url} to path {destination_path}')\n",
        "        continue\n",
        "\n",
        "print('Data source import complete.')\n"
      ],
      "metadata": {
        "id": "vLqFviC6ZJUj"
      },
      "cell_type": "code",
      "outputs": [],
      "execution_count": null
    },
    {
      "cell_type": "code",
      "source": [
        "# This Python 3 environment comes with many helpful analytics libraries installed\n",
        "# It is defined by the kaggle/python Docker image: https://github.com/kaggle/docker-python\n",
        "# For example, here's several helpful packages to load\n",
        "\n",
        "import numpy as np # linear algebra\n",
        "import pandas as pd # data processing, CSV file I/O (e.g. pd.read_csv)\n",
        "\n",
        "# Input data files are available in the read-only \"../input/\" directory\n",
        "# For example, running this (by clicking run or pressing Shift+Enter) will list all files under the input directory\n",
        "\n",
        "import os\n",
        "for dirname, _, filenames in os.walk('/kaggle/input'):\n",
        "    for filename in filenames:\n",
        "        print(os.path.join(dirname, filename))\n",
        "\n",
        "# You can write up to 20GB to the current directory (/kaggle/working/) that gets preserved as output when you create a version using \"Save & Run All\"\n",
        "# You can also write temporary files to /kaggle/temp/, but they won't be saved outside of the current session"
      ],
      "metadata": {
        "_uuid": "8f2839f25d086af736a60e9eeb907d3b93b6e0e5",
        "_cell_guid": "b1076dfc-b9ad-4769-8c92-a6c4dae69d19",
        "execution": {
          "iopub.status.busy": "2022-12-04T13:22:12.978683Z",
          "iopub.execute_input": "2022-12-04T13:22:12.979394Z",
          "iopub.status.idle": "2022-12-04T13:22:12.993173Z",
          "shell.execute_reply.started": "2022-12-04T13:22:12.979344Z",
          "shell.execute_reply": "2022-12-04T13:22:12.991628Z"
        },
        "trusted": true,
        "id": "VRuyqd_wZJUm"
      },
      "execution_count": null,
      "outputs": []
    },
    {
      "cell_type": "markdown",
      "source": [
        "# **Linear Regression:**\n",
        "\n",
        "Linear regression is a statistical method used to analyze the relationship between a dependent variable and one or more independent variables. In linear regression, the relationship between the variables is modeled using a linear equation. This equation can be used to predict the value of the dependent variable based on the values of the independent variables.\n",
        "\n",
        "There are several types of linear regression, including simple linear regression, multiple linear regression, and polynomial regression.\n",
        "\n",
        "* **Simple linear regression:** This type of linear regression models the relationship between a dependent variable and a single independent variable. It is used to identify the strength of the relationship between the two variables and to predict the value of the dependent variable based on the value of the independent variable.\n",
        "\n",
        "* **Multiple linear regression:** This type of linear regression models the relationship between a dependent variable and two or more independent variables. It is used to identify the strength of the relationship between the variables and to predict the value of the dependent variable based on the values of the independent variables.\n",
        "\n",
        "* **Polynomial regression:** This type of linear regression is used to model relationships between the dependent and independent variables that are not linear. It can be used to fit a curve to the data and make predictions based on the curve.\n",
        "\n",
        "You can find my project about simple linear regression [here](http://www.kaggle.com/code/emineyetm/simple-linear-regression-using-python).\n",
        "\n",
        "*Multiple regression* is a statistical method used to model the relationship between multiple independent variables and a dependent variable. In Python, this can be performed using the sklearn library. To use multiple regression with this library, you will first need to create a LinearRegression object, then train the model on your data using the fit() method. Once the model is trained, you can use the predict() method to make predictions on new data.\n",
        "\n",
        "* Here : Y = b0 + b1 * x1 + b2 * x2 + b3 * x3 + …… bn * xn\n",
        "* Y = Dependent variable and x1, x2, x3, …… xn = multiple independent variables"
      ],
      "metadata": {
        "id": "6dYGShDsZJUm"
      }
    },
    {
      "cell_type": "markdown",
      "source": [
        "**Assumption of Regression Model :**\n",
        "* Linearity: The relationship between dependent and independent variables should be linear.\n",
        "* Homoscedasticity: Constant variance of the errors should be maintained.\n",
        "* Multivariate normality: Multiple Regression assumes that the residuals are normally distributed.\n",
        "* Lack of Multicollinearity: It is assumed that there is little or no multicollinearity in the data."
      ],
      "metadata": {
        "id": "crBKO6maZJUn"
      }
    },
    {
      "cell_type": "code",
      "source": [
        "#Importing the libraries\n",
        "import pandas as pd\n",
        "import numpy as np\n",
        "import matplotlib.pyplot as plt\n",
        "import seaborn as sns\n",
        "\n",
        "# import warnings\n",
        "import warnings\n",
        "warnings.filterwarnings(\"ignore\")\n",
        "\n",
        "# We will use some methods from the sklearn module\n",
        "from sklearn import linear_model\n",
        "from sklearn.linear_model import LinearRegression\n",
        "from sklearn import metrics\n",
        "from sklearn.metrics import mean_squared_error, mean_absolute_error\n",
        "from sklearn.model_selection import train_test_split, cross_val_score"
      ],
      "metadata": {
        "execution": {
          "iopub.status.busy": "2022-12-04T13:22:12.996597Z",
          "iopub.execute_input": "2022-12-04T13:22:12.99769Z",
          "iopub.status.idle": "2022-12-04T13:22:13.008609Z",
          "shell.execute_reply.started": "2022-12-04T13:22:12.99764Z",
          "shell.execute_reply": "2022-12-04T13:22:13.006926Z"
        },
        "trusted": true,
        "id": "n-1IAZGpZJUo"
      },
      "execution_count": null,
      "outputs": []
    },
    {
      "cell_type": "code",
      "source": [
        "# Reading the Dataset\n",
        "df = pd.read_csv(\"/kaggle/input/cardataset/data.csv\")"
      ],
      "metadata": {
        "execution": {
          "iopub.status.busy": "2022-12-04T13:22:13.010656Z",
          "iopub.execute_input": "2022-12-04T13:22:13.011478Z",
          "iopub.status.idle": "2022-12-04T13:22:13.026717Z",
          "shell.execute_reply.started": "2022-12-04T13:22:13.011434Z",
          "shell.execute_reply": "2022-12-04T13:22:13.025209Z"
        },
        "trusted": true,
        "id": "-H-N7jK-ZJUo"
      },
      "execution_count": null,
      "outputs": []
    },
    {
      "cell_type": "code",
      "source": [
        "df.head()"
      ],
      "metadata": {
        "execution": {
          "iopub.status.busy": "2022-12-04T13:22:13.02962Z",
          "iopub.execute_input": "2022-12-04T13:22:13.03033Z",
          "iopub.status.idle": "2022-12-04T13:22:13.045268Z",
          "shell.execute_reply.started": "2022-12-04T13:22:13.030288Z",
          "shell.execute_reply": "2022-12-04T13:22:13.043934Z"
        },
        "trusted": true,
        "id": "WRN6rN-ZZJUo"
      },
      "execution_count": null,
      "outputs": []
    },
    {
      "cell_type": "code",
      "source": [
        "df.shape"
      ],
      "metadata": {
        "execution": {
          "iopub.status.busy": "2022-12-04T13:22:13.047086Z",
          "iopub.execute_input": "2022-12-04T13:22:13.047879Z",
          "iopub.status.idle": "2022-12-04T13:22:13.055693Z",
          "shell.execute_reply.started": "2022-12-04T13:22:13.047837Z",
          "shell.execute_reply": "2022-12-04T13:22:13.054546Z"
        },
        "trusted": true,
        "id": "neLdOLV6ZJUp"
      },
      "execution_count": null,
      "outputs": []
    },
    {
      "cell_type": "code",
      "source": [
        "print(df.corr())"
      ],
      "metadata": {
        "execution": {
          "iopub.status.busy": "2022-12-04T13:22:13.057328Z",
          "iopub.execute_input": "2022-12-04T13:22:13.05826Z",
          "iopub.status.idle": "2022-12-04T13:22:13.07247Z",
          "shell.execute_reply.started": "2022-12-04T13:22:13.058216Z",
          "shell.execute_reply": "2022-12-04T13:22:13.070692Z"
        },
        "trusted": true,
        "id": "dx7KjilEZJUp"
      },
      "execution_count": null,
      "outputs": []
    },
    {
      "cell_type": "code",
      "source": [
        "print(df.describe())"
      ],
      "metadata": {
        "execution": {
          "iopub.status.busy": "2022-12-04T13:22:13.074455Z",
          "iopub.execute_input": "2022-12-04T13:22:13.075183Z",
          "iopub.status.idle": "2022-12-04T13:22:13.10355Z",
          "shell.execute_reply.started": "2022-12-04T13:22:13.075139Z",
          "shell.execute_reply": "2022-12-04T13:22:13.102436Z"
        },
        "trusted": true,
        "id": "Bn77DdGhZJUp"
      },
      "execution_count": null,
      "outputs": []
    },
    {
      "cell_type": "markdown",
      "source": [
        "**Then make a list of the independent values and call this variable X. Put the dependent values in a variable called y.**\n",
        "\n",
        "It is common to name the list of independent values with an uppercase X and the list of dependent values with a lowercase y.\n",
        "* **Equation:** Sales = β0 + (β1 * Weight) + (β2 * Volume) + e\n",
        "* Setting the values for independent **(X)** variable and dependent **(Y)** variable"
      ],
      "metadata": {
        "id": "EBzNQTGlZJUp"
      }
    },
    {
      "cell_type": "code",
      "source": [
        "#Setting the value for X and Y\n",
        "X = df[['Weight', 'Volume']]\n",
        "y = df['CO2']"
      ],
      "metadata": {
        "execution": {
          "iopub.status.busy": "2022-12-04T13:22:13.105175Z",
          "iopub.execute_input": "2022-12-04T13:22:13.105867Z",
          "iopub.status.idle": "2022-12-04T13:22:13.114681Z",
          "shell.execute_reply.started": "2022-12-04T13:22:13.105823Z",
          "shell.execute_reply": "2022-12-04T13:22:13.113346Z"
        },
        "trusted": true,
        "id": "788wYtZNZJUp"
      },
      "execution_count": null,
      "outputs": []
    },
    {
      "cell_type": "markdown",
      "source": [
        "**Checking for outliers**"
      ],
      "metadata": {
        "id": "dRByYL-eZJUq"
      }
    },
    {
      "cell_type": "code",
      "source": [
        "fig, axs = plt.subplots(2, figsize = (5,5))\n",
        "plt1 = sns.boxplot(df['Weight'], ax = axs[0])\n",
        "plt2 = sns.boxplot(df['Volume'], ax = axs[1])\n",
        "plt.tight_layout()"
      ],
      "metadata": {
        "execution": {
          "iopub.status.busy": "2022-12-04T13:22:13.116124Z",
          "iopub.execute_input": "2022-12-04T13:22:13.117285Z",
          "iopub.status.idle": "2022-12-04T13:22:13.478041Z",
          "shell.execute_reply.started": "2022-12-04T13:22:13.117241Z",
          "shell.execute_reply": "2022-12-04T13:22:13.476537Z"
        },
        "trusted": true,
        "id": "Gy8p9jjmZJUq"
      },
      "execution_count": null,
      "outputs": []
    },
    {
      "cell_type": "markdown",
      "source": [
        "# Exploratory Data Analysis\n",
        "\n",
        "**Distribution of the target variable**"
      ],
      "metadata": {
        "id": "qMPya7CuZJUq"
      }
    },
    {
      "cell_type": "code",
      "source": [
        "sns.distplot(df['CO2']);"
      ],
      "metadata": {
        "execution": {
          "iopub.status.busy": "2022-12-04T13:22:13.48347Z",
          "iopub.execute_input": "2022-12-04T13:22:13.48397Z",
          "iopub.status.idle": "2022-12-04T13:22:13.743954Z",
          "shell.execute_reply.started": "2022-12-04T13:22:13.483931Z",
          "shell.execute_reply": "2022-12-04T13:22:13.742622Z"
        },
        "trusted": true,
        "id": "e5eOZmHEZJUq"
      },
      "execution_count": null,
      "outputs": []
    },
    {
      "cell_type": "markdown",
      "source": [
        "**Conclusion:** It is normally distributed"
      ],
      "metadata": {
        "id": "-5ehB4DsZJUq"
      }
    },
    {
      "cell_type": "markdown",
      "source": [
        "**Relationship of CO2 with other variables**"
      ],
      "metadata": {
        "id": "SFaZ-vl0ZJUq"
      }
    },
    {
      "cell_type": "code",
      "source": [
        "sns.pairplot(df, x_vars=['Weight', 'Volume'], y_vars='CO2', height=4, aspect=1, kind='scatter')\n",
        "plt.show()"
      ],
      "metadata": {
        "execution": {
          "iopub.status.busy": "2022-12-04T13:22:13.745442Z",
          "iopub.execute_input": "2022-12-04T13:22:13.745909Z",
          "iopub.status.idle": "2022-12-04T13:22:14.205289Z",
          "shell.execute_reply.started": "2022-12-04T13:22:13.745875Z",
          "shell.execute_reply": "2022-12-04T13:22:14.204007Z"
        },
        "trusted": true,
        "id": "bT1dxLdbZJUq"
      },
      "execution_count": null,
      "outputs": []
    },
    {
      "cell_type": "markdown",
      "source": [
        "**Heatmap**\n",
        "The sns.heatmap() function creates a visualization that shows the correlation matrix of a dataset as a heatmap. The annot parameter of this function shows or does not show correlation values in the cells of the heatmap. If this parameter is set to True, correlation values in cells are displayed."
      ],
      "metadata": {
        "id": "hZ8_vmpsZJUq"
      }
    },
    {
      "cell_type": "code",
      "source": [
        "# Create the correlation matrix and represent it as a heatmap.\n",
        "sns.heatmap(df.corr(), annot = True, cmap = 'coolwarm')\n",
        "plt.show()"
      ],
      "metadata": {
        "execution": {
          "iopub.status.busy": "2022-12-04T13:22:14.206604Z",
          "iopub.execute_input": "2022-12-04T13:22:14.206953Z",
          "iopub.status.idle": "2022-12-04T13:22:14.51238Z",
          "shell.execute_reply.started": "2022-12-04T13:22:14.206921Z",
          "shell.execute_reply": "2022-12-04T13:22:14.510888Z"
        },
        "trusted": true,
        "id": "uUpJ6PBnZJUr"
      },
      "execution_count": null,
      "outputs": []
    },
    {
      "cell_type": "markdown",
      "source": [
        "# Model Building\n",
        "\n",
        "**Splitting the dataset into train and test set**"
      ],
      "metadata": {
        "id": "VIWFD-FDZJUr"
      }
    },
    {
      "cell_type": "markdown",
      "source": [
        "We need to split our dataset into training and testing sets. We’ll perform this by importing train_test_split from sklearn.model_selection library. It is usually good to keep 70% of the data in your train dataset and the rest 30% in your test dataset."
      ],
      "metadata": {
        "id": "8t2-F-S_ZJUr"
      }
    },
    {
      "cell_type": "code",
      "source": [
        "X_train,X_test, y_train, y_test = train_test_split(X, y, test_size = 0.3, random_state = 100)"
      ],
      "metadata": {
        "execution": {
          "iopub.status.busy": "2022-12-04T13:22:14.514288Z",
          "iopub.execute_input": "2022-12-04T13:22:14.514646Z",
          "iopub.status.idle": "2022-12-04T13:22:14.522594Z",
          "shell.execute_reply.started": "2022-12-04T13:22:14.514614Z",
          "shell.execute_reply": "2022-12-04T13:22:14.521149Z"
        },
        "trusted": true,
        "id": "NJIlO7CkZJUr"
      },
      "execution_count": null,
      "outputs": []
    },
    {
      "cell_type": "code",
      "source": [
        "y_train.shape"
      ],
      "metadata": {
        "execution": {
          "iopub.status.busy": "2022-12-04T13:22:14.523916Z",
          "iopub.execute_input": "2022-12-04T13:22:14.524248Z",
          "iopub.status.idle": "2022-12-04T13:22:14.539829Z",
          "shell.execute_reply.started": "2022-12-04T13:22:14.524219Z",
          "shell.execute_reply": "2022-12-04T13:22:14.538259Z"
        },
        "trusted": true,
        "id": "82Gv8wDmZJUr"
      },
      "execution_count": null,
      "outputs": []
    },
    {
      "cell_type": "code",
      "source": [
        "y_test.shape"
      ],
      "metadata": {
        "execution": {
          "iopub.status.busy": "2022-12-04T13:22:14.541518Z",
          "iopub.execute_input": "2022-12-04T13:22:14.542017Z",
          "iopub.status.idle": "2022-12-04T13:22:14.553845Z",
          "shell.execute_reply.started": "2022-12-04T13:22:14.541978Z",
          "shell.execute_reply": "2022-12-04T13:22:14.552545Z"
        },
        "trusted": true,
        "id": "DpgbGIIUZJUr"
      },
      "execution_count": null,
      "outputs": []
    },
    {
      "cell_type": "code",
      "source": [
        "reg_model = linear_model.LinearRegression()"
      ],
      "metadata": {
        "execution": {
          "iopub.status.busy": "2022-12-04T13:22:14.557028Z",
          "iopub.execute_input": "2022-12-04T13:22:14.557437Z",
          "iopub.status.idle": "2022-12-04T13:22:14.564969Z",
          "shell.execute_reply.started": "2022-12-04T13:22:14.557385Z",
          "shell.execute_reply": "2022-12-04T13:22:14.563555Z"
        },
        "trusted": true,
        "id": "J8-04UKqZJUr"
      },
      "execution_count": null,
      "outputs": []
    },
    {
      "cell_type": "code",
      "source": [
        "#Fitting the Multiple Linear Regression model\n",
        "reg_model = LinearRegression().fit(X_train, y_train)"
      ],
      "metadata": {
        "execution": {
          "iopub.status.busy": "2022-12-04T13:22:14.566901Z",
          "iopub.execute_input": "2022-12-04T13:22:14.567314Z",
          "iopub.status.idle": "2022-12-04T13:22:14.581988Z",
          "shell.execute_reply.started": "2022-12-04T13:22:14.56728Z",
          "shell.execute_reply": "2022-12-04T13:22:14.580693Z"
        },
        "trusted": true,
        "id": "eiCgwcYDZJUr"
      },
      "execution_count": null,
      "outputs": []
    },
    {
      "cell_type": "code",
      "source": [
        "#Printing the model coefficients\n",
        "print('Intercept: ',reg_model.intercept_)\n",
        "# pair the feature names with the coefficients\n",
        "list(zip(X, reg_model.coef_))"
      ],
      "metadata": {
        "execution": {
          "iopub.status.busy": "2022-12-04T13:22:14.58418Z",
          "iopub.execute_input": "2022-12-04T13:22:14.584608Z",
          "iopub.status.idle": "2022-12-04T13:22:14.595736Z",
          "shell.execute_reply.started": "2022-12-04T13:22:14.584561Z",
          "shell.execute_reply": "2022-12-04T13:22:14.594499Z"
        },
        "trusted": true,
        "id": "nMjtKc_oZJUr"
      },
      "execution_count": null,
      "outputs": []
    },
    {
      "cell_type": "code",
      "source": [
        "#Predicting the Test and Train set result\n",
        "y_pred= reg_model.predict(X_test)\n",
        "x_pred= reg_model.predict(X_train)"
      ],
      "metadata": {
        "execution": {
          "iopub.status.busy": "2022-12-04T13:22:14.597214Z",
          "iopub.execute_input": "2022-12-04T13:22:14.597565Z",
          "iopub.status.idle": "2022-12-04T13:22:14.60926Z",
          "shell.execute_reply.started": "2022-12-04T13:22:14.597533Z",
          "shell.execute_reply": "2022-12-04T13:22:14.607964Z"
        },
        "trusted": true,
        "id": "3xOGnf2qZJUs"
      },
      "execution_count": null,
      "outputs": []
    },
    {
      "cell_type": "code",
      "source": [
        "print(\"Prediction for test set: {}\".format(y_pred))"
      ],
      "metadata": {
        "execution": {
          "iopub.status.busy": "2022-12-04T13:22:14.611163Z",
          "iopub.execute_input": "2022-12-04T13:22:14.611638Z",
          "iopub.status.idle": "2022-12-04T13:22:14.624394Z",
          "shell.execute_reply.started": "2022-12-04T13:22:14.611593Z",
          "shell.execute_reply": "2022-12-04T13:22:14.623358Z"
        },
        "trusted": true,
        "id": "GgbyOkJMZJUs"
      },
      "execution_count": null,
      "outputs": []
    },
    {
      "cell_type": "code",
      "source": [
        "#Actual value and the predicted value\n",
        "reg_model_diff = pd.DataFrame({'Actual value': y_test, 'Predicted value': y_pred})\n",
        "reg_model_diff"
      ],
      "metadata": {
        "execution": {
          "iopub.status.busy": "2022-12-04T13:22:14.625697Z",
          "iopub.execute_input": "2022-12-04T13:22:14.626508Z",
          "iopub.status.idle": "2022-12-04T13:22:14.646666Z",
          "shell.execute_reply.started": "2022-12-04T13:22:14.626471Z",
          "shell.execute_reply": "2022-12-04T13:22:14.645261Z"
        },
        "trusted": true,
        "id": "ue0lUJK8ZJUs"
      },
      "execution_count": null,
      "outputs": []
    },
    {
      "cell_type": "code",
      "source": [
        "mae = metrics.mean_absolute_error(y_test, y_pred)\n",
        "mse = metrics.mean_squared_error(y_test, y_pred)\n",
        "r2 = np.sqrt(metrics.mean_squared_error(y_test, y_pred))\n",
        "\n",
        "print('Mean Absolute Error:', mae)\n",
        "print('Mean Square Error:', mse)\n",
        "print('Root Mean Square Error:', r2)"
      ],
      "metadata": {
        "execution": {
          "iopub.status.busy": "2022-12-04T13:22:14.647755Z",
          "iopub.execute_input": "2022-12-04T13:22:14.648117Z",
          "iopub.status.idle": "2022-12-04T13:22:14.662315Z",
          "shell.execute_reply.started": "2022-12-04T13:22:14.648086Z",
          "shell.execute_reply": "2022-12-04T13:22:14.661388Z"
        },
        "trusted": true,
        "id": "ORZ82fOTZJUs"
      },
      "execution_count": null,
      "outputs": []
    }
  ]
}